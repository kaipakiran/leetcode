{
 "metadata": {
  "language_info": {
   "codemirror_mode": {
    "name": "ipython",
    "version": 3
   },
   "file_extension": ".py",
   "mimetype": "text/x-python",
   "name": "python",
   "nbconvert_exporter": "python",
   "pygments_lexer": "ipython3",
   "version": "3.7.3-final"
  },
  "orig_nbformat": 2,
  "kernelspec": {
   "name": "python37364bitpyenvvenv63fb8a6bbc2843c4ad8ffe434700b5da",
   "display_name": "Python 3.7.3 64-bit ('pyenv': venv)"
  }
 },
 "nbformat": 4,
 "nbformat_minor": 2,
 "cells": [
  {
   "cell_type": "code",
   "execution_count": 44,
   "metadata": {
    "tags": []
   },
   "outputs": [
    {
     "output_type": "stream",
     "name": "stdout",
     "text": "[6, 5, 4, 3, 2, 1] 3.5\n"
    }
   ],
   "source": [
    "# median of sorted arrays\n",
    "val1 = nums1\n",
    "val2 = nums2\n",
    "val1_len = len(val1)\n",
    "val2_len = len(val2)\n",
    "overall_len = val1_len+val2_len\n",
    "even=False\n",
    "if overall_len%2 ==0:\n",
    "    even = True    \n",
    "if val1[-1]<val2[0]:\n",
    "    val3 = val1\n",
    "    val3.extend(val2)\n",
    "elif val2[-1]<val1[0]:\n",
    "    val3 = val2\n",
    "    val3.extend(val1)\n",
    "else:\n",
    "    val3 = []\n",
    "    flag = 0\n",
    "    i = 0\n",
    "    while i < overall_len:\n",
    "        if flag==0:\n",
    "            if val1[-1]>val2[-1]:\n",
    "                val3.append(val1[-1])\n",
    "                val1.pop(val1.index(val3[i]))\n",
    "                if len(val1)==0:\n",
    "                    flag =1\n",
    "            else:\n",
    "                val3.append(val2[-1])\n",
    "                val2.pop(val2.index(val3[i]))\n",
    "                if len(val2)==0:\n",
    "                    flag = 2\n",
    "        elif flag ==1:\n",
    "            val3.extend(val2[::-1])\n",
    "            break\n",
    "        else:\n",
    "            val3.extend(val1[::-1])\n",
    "            break\n",
    "        i+=1\n",
    "index = int(overall_len/2)\n",
    "if even:   \n",
    "    return ((val3[index]+val3[index-1])/2)\n",
    "else:\n",
    "    return (val3[index])"
   ]
  },
  {
   "cell_type": "code",
   "execution_count": 48,
   "metadata": {},
   "outputs": [],
   "source": [
    "string = \"paypalishiring\""
   ]
  },
  {
   "cell_type": "code",
   "execution_count": 121,
   "metadata": {
    "tags": []
   },
   "outputs": [
    {
     "output_type": "stream",
     "name": "stdout",
     "text": "True\n"
    }
   ],
   "source": [
    "# valid palidrome number\n",
    "num = 123454321\n",
    "i = 1\n",
    "rev = 0\n",
    "flag = 0\n",
    "temp = num\n",
    "while(1):\n",
    "    if temp <10:\n",
    "        n = temp\n",
    "        flag = 1\n",
    "    else:\n",
    "        n = int(temp / 10)\n",
    "    r = temp % 10\n",
    "    temp = n\n",
    "    # print(i,n,r)\n",
    "    rev = rev*10 +r\n",
    "    i+=1\n",
    "    if flag ==1:\n",
    "        break\n",
    "print(rev==num)"
   ]
  },
  {
   "cell_type": "code",
   "execution_count": 97,
   "metadata": {
    "tags": []
   },
   "outputs": [
    {
     "output_type": "stream",
     "name": "stdout",
     "text": "pinalsigyahrpi\n"
    }
   ],
   "source": [
    "# Convert string to zigzag pattern \n",
    "# https://stackoverflow.com/questions/6473679/transpose-list-of-lists\n",
    "\"\"\"P     H \n",
    "   A   S I\n",
    "   Y  I  R\n",
    "   P L   I G\n",
    "   A     N  \"\"\"\n",
    "\"\"\"P   A   H   N\n",
    "   A P L S I I G\n",
    "   Y   I   R    \"\"\"\n",
    "\"\"\"P     I      N \n",
    "   A   L S    I G\n",
    "   Y A   H  R\n",
    "   P     I        \"\"\"\n",
    "num_rows = 4\n",
    "overall_cols = []\n",
    "i = 0\n",
    "c = 0\n",
    "out = []\n",
    "while(i < len(string)):\n",
    "    if c!=0:\n",
    "        if c <= (num_rows-2):\n",
    "            temp = [\" \"]*num_rows\n",
    "            temp[num_rows-c-1] = string[i]\n",
    "            c+=1\n",
    "            overall_cols.append(temp)\n",
    "            i+=1\n",
    "        else:\n",
    "            c = 0\n",
    "    if c == 0:\n",
    "        temp = list(string[i:(i+(num_rows))])\n",
    "        tlen = len(temp)\n",
    "        if tlen<num_rows:\n",
    "            temp.extend([\" \"]*(num_rows-tlen))\n",
    "        overall_cols.append(temp)\n",
    "        i+=num_rows\n",
    "        c+= 1\n",
    "for l in list(map(list, zip(*overall_cols))):\n",
    "    out.append(\"\".join([x for x in l if x !=' ']))\n",
    "print(\"\".join(out))\n"
   ]
  },
  {
   "cell_type": "code",
   "execution_count": 249,
   "metadata": {
    "tags": []
   },
   "outputs": [
    {
     "output_type": "stream",
     "name": "stdout",
     "text": "a a 0\na a 1\na a 1\nFalse [] []\n"
    }
   ],
   "source": [
    "\"\"\"\n",
    "Given an input string (s) and a pattern (p), implement regular expression matching with support for '.' and '*'.\n",
    "\n",
    "'.' Matches any single character.\n",
    "'*' Matches zero or more of the preceding element.\n",
    "The matching should cover the entire input string (not partial).\n",
    "\n",
    "Note:\n",
    "\n",
    "s could be empty and contains only lowercase letters a-z.\n",
    "p could be empty and contains only lowercase letters a-z, and characters like . or *.\n",
    "s = \"ab\"\n",
    "p = \".*\"\n",
    "s = \"aa\"\n",
    "p = \"a*\"\n",
    "s = \"aab\"\n",
    "p = \"c*a*b\"\n",
    "s = \"mississippi\"\n",
    "p = \"mis*is*p*.\"\n",
    "s = \"mississippi\"\n",
    "p = \"mis*is*ip*.\"\n",
    "\"\"\"\n",
    "string = list(\"aa\")\n",
    "pattern = list(\"aa\")\n",
    "dot_index = None\n",
    "star_index = None\n",
    "i = 0\n",
    "match = False\n",
    "pflag = 0\n",
    "while(1):\n",
    "    if len(pattern)==0:\n",
    "        if p==\"*\":\n",
    "            match = True\n",
    "            break\n",
    "        else:\n",
    "            pflag = 1\n",
    "    if len(string)!=0 and len(pattern)!=0:\n",
    "        s = string.pop(string.index(string[0]))\n",
    "        p = pattern.pop(pattern.index(pattern[0]))\n",
    "        print(s,p,i)\n",
    "        if s!=p:\n",
    "            if p=='.':\n",
    "                dot_index=i\n",
    "            elif p=='*' and i!=0:\n",
    "                star_index = i\n",
    "                if len(pattern)==0:\n",
    "                    match = True\n",
    "                    break\n",
    "                p = pattern.pop(pattern.index(pattern[0]))\n",
    "                if len(string)>0:\n",
    "                    t = string.pop(string.index(string[0]))\n",
    "                    while t==s:\n",
    "                        t = string.pop(string.index(string[0]))\n",
    "                else:\n",
    "                    t = s\n",
    "                #if match:\n",
    "                #    s = string.pop(string.index(string[0]))\n",
    "                print(s,p,t,match)\n",
    "                if t!=p and p!=\".\":\n",
    "                    match = False\n",
    "                    break\n",
    "                else:\n",
    "                    match = True\n",
    "                    if len(pattern)==0:\n",
    "                        break\n",
    "                if star_index-1==dot_index:\n",
    "                    if len(pattern)== 0:\n",
    "                        match= True\n",
    "                        break\n",
    "                    flag = 0\n",
    "                    while(not flag or len(string)!=0):\n",
    "                        s = string.pop(string.index(string[0]))\n",
    "                        if s == p:\n",
    "                            flag = 1\n",
    "            elif pattern[0]==\"*\":\n",
    "                print(\"yes\")\n",
    "                pattern.pop(pattern.index(pattern[0]))\n",
    "                match=True\n",
    "                if len(pattern)==0:\n",
    "                    break\n",
    "                pass\n",
    "            else:\n",
    "                match = False\n",
    "        else:\n",
    "            #match=True\n",
    "            pass\n",
    "    else:\n",
    "        print(s,p,pflag)\n",
    "        if (s == p or p==\"*\" or p=='.') and (pflag!=1): \n",
    "            match = True\n",
    "            break\n",
    "        else:\n",
    "            match = False\n",
    "            break\n",
    "    i+=1\n",
    "print(match,string,pattern)\n",
    "\n",
    "            "
   ]
  },
  {
   "cell_type": "code",
   "execution_count": 336,
   "metadata": {
    "tags": []
   },
   "outputs": [
    {
     "output_type": "stream",
     "name": "stdout",
     "text": "a a\nMATCHED\na *\nc b []\nFalse\nyahan fasa {'*', 'b'}\nFalse\n"
    }
   ],
   "source": [
    "string = list(\"aab\")\n",
    "pattern = list(\"a*c*b*\")\n",
    "s = None\n",
    "p = None\n",
    "match = False\n",
    "while(1):\n",
    "    if len(string)!=0 and len(pattern)!=0:\n",
    "        pp = p\n",
    "        p = pattern.pop(0)\n",
    "        print(string[0],p)\n",
    "        if string[0] == p:\n",
    "            match = True\n",
    "            print(\"MATCHED\")\n",
    "            ps = string.pop(0)\n",
    "            pass\n",
    "        else:\n",
    "            if p == \"*\" and match:\n",
    "                s = string.pop(0)\n",
    "                while s==ps and len(string)!=0:\n",
    "                    s = string.pop(0)\n",
    "                if len(pattern)!=0:\n",
    "                    p = pattern.pop(0)\n",
    "                else:\n",
    "                    p = pp  \n",
    "                print(p,s,string)  \n",
    "                if p==s or p=='.':\n",
    "                    match = True\n",
    "                    pass\n",
    "                else:\n",
    "                    match = False\n",
    "                    pass\n",
    "            elif p=='.':\n",
    "                pass\n",
    "            else:\n",
    "                print(\"else\",p,s,string,pattern)\n",
    "                match = False\n",
    "                #break\n",
    "    else:\n",
    "        break\n",
    "print(match)\n",
    "if len(pattern)!=0:\n",
    "    if len(set([\"*\"]).union(set(pattern))-set([\"*\"]))!=0:\n",
    "        print(\"yahan fasa\",set([\"*\"]).union(set(pattern))-set([\".\"]))\n",
    "        match = False\n",
    "elif len(string)>=1 and p==\".\":\n",
    "    match = False\n",
    "    \n",
    "print(match)\n"
   ]
  },
  {
   "cell_type": "code",
   "execution_count": 382,
   "metadata": {
    "tags": []
   },
   "outputs": [
    {
     "output_type": "stream",
     "name": "stdout",
     "text": "['a2 act car', 'a8 act zoo', 'ab1 off key dog', 'g1 act car']\n['a2 act car', 'g1 act car', 'a8 act zoo', 'ab1 off key dog']\n"
    },
    {
     "output_type": "execute_result",
     "data": {
      "text/plain": "['a2 act car',\n 'g1 act car',\n 'a8 act zoo',\n 'ab1 off key dog',\n 'a1 9 2 3 1',\n 'zo4 4 7']"
     },
     "metadata": {},
     "execution_count": 382
    }
   ],
   "source": [
    "import re\n",
    "logs = [\"dig1 8 1 5 1\",\"let1 art can\",\"dig2 3 6\",\"let2 own kit dig\",\"let3 art zero\"]\n",
    "logs = [\"a1 9 2 3 1\",\"g1 act car\",\"zo4 4 7\",\"ab1 off key dog\",\"a8 act zoo\"]\n",
    "logs = [\"a1 9 2 3 1\",\"g1 act car\",\"zo4 4 7\",\"ab1 off key dog\",\"a8 act zoo\",\"a2 act car\"]\n",
    "let_logs = [x for x in logs if len(re.findall(\"[0-9]\",x.split()[1]))==0 ]\n",
    "print(sorted(let_logs))\n",
    "sorted_list = sorted([(\" \".join(x.split()[:1]),i) for i,x in enumerate(let_logs)])\n",
    "let_logs = [let_logs[x[1]]for x in sorted_list]\n",
    "sorted_list = sorted([(\" \".join(x.split()[1:]),i) for i,x in enumerate(let_logs)])\n",
    "let_logs = [let_logs[x[1]]for x in sorted_list]\n",
    "#let_logs = sorted(let_logs)\n",
    "print(let_logs)\n",
    "let_logs.extend([x for x in logs if len(re.findall(\"[0-9]\",x.split()[1]))>0])\n",
    "let_logs"
   ]
  },
  {
   "cell_type": "code",
   "execution_count": 372,
   "metadata": {},
   "outputs": [
    {
     "output_type": "execute_result",
     "data": {
      "text/plain": "[]"
     },
     "metadata": {},
     "execution_count": 372
    }
   ],
   "source": [
    "re.findall(\"[0-9]+\",\"art\")"
   ]
  },
  {
   "cell_type": "code",
   "execution_count": null,
   "metadata": {},
   "outputs": [],
   "source": []
  }
 ]
}