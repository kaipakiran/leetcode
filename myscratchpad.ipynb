{
 "metadata": {
  "language_info": {
   "codemirror_mode": {
    "name": "ipython",
    "version": 3
   },
   "file_extension": ".py",
   "mimetype": "text/x-python",
   "name": "python",
   "nbconvert_exporter": "python",
   "pygments_lexer": "ipython3",
   "version": "3.7.3-final"
  },
  "orig_nbformat": 2,
  "kernelspec": {
   "name": "python37364bitpyenvvenv63fb8a6bbc2843c4ad8ffe434700b5da",
   "display_name": "Python 3.7.3 64-bit ('pyenv': venv)"
  }
 },
 "nbformat": 4,
 "nbformat_minor": 2,
 "cells": [
  {
   "cell_type": "code",
   "execution_count": 44,
   "metadata": {
    "tags": []
   },
   "outputs": [
    {
     "output_type": "stream",
     "name": "stdout",
     "text": "[6, 5, 4, 3, 2, 1] 3.5\n"
    }
   ],
   "source": [
    "# median of sorted arrays\n",
    "val1 = nums1\n",
    "val2 = nums2\n",
    "val1_len = len(val1)\n",
    "val2_len = len(val2)\n",
    "overall_len = val1_len+val2_len\n",
    "even=False\n",
    "if overall_len%2 ==0:\n",
    "    even = True    \n",
    "if val1[-1]<val2[0]:\n",
    "    val3 = val1\n",
    "    val3.extend(val2)\n",
    "elif val2[-1]<val1[0]:\n",
    "    val3 = val2\n",
    "    val3.extend(val1)\n",
    "else:\n",
    "    val3 = []\n",
    "    flag = 0\n",
    "    i = 0\n",
    "    while i < overall_len:\n",
    "        if flag==0:\n",
    "            if val1[-1]>val2[-1]:\n",
    "                val3.append(val1[-1])\n",
    "                val1.pop(val1.index(val3[i]))\n",
    "                if len(val1)==0:\n",
    "                    flag =1\n",
    "            else:\n",
    "                val3.append(val2[-1])\n",
    "                val2.pop(val2.index(val3[i]))\n",
    "                if len(val2)==0:\n",
    "                    flag = 2\n",
    "        elif flag ==1:\n",
    "            val3.extend(val2[::-1])\n",
    "            break\n",
    "        else:\n",
    "            val3.extend(val1[::-1])\n",
    "            break\n",
    "        i+=1\n",
    "index = int(overall_len/2)\n",
    "if even:   \n",
    "    return ((val3[index]+val3[index-1])/2)\n",
    "else:\n",
    "    return (val3[index])"
   ]
  },
  {
   "cell_type": "code",
   "execution_count": 48,
   "metadata": {},
   "outputs": [],
   "source": [
    "string = \"paypalishiring\""
   ]
  },
  {
   "cell_type": "code",
   "execution_count": 97,
   "metadata": {
    "tags": []
   },
   "outputs": [
    {
     "output_type": "stream",
     "name": "stdout",
     "text": "pinalsigyahrpi\n"
    }
   ],
   "source": [
    "# Convert string to zigzag pattern \n",
    "# https://stackoverflow.com/questions/6473679/transpose-list-of-lists\n",
    "\"\"\"P     H \n",
    "   A   S I\n",
    "   Y  I  R\n",
    "   P L   I G\n",
    "   A     N  \"\"\"\n",
    "\"\"\"P   A   H   N\n",
    "   A P L S I I G\n",
    "   Y   I   R    \"\"\"\n",
    "\"\"\"P     I      N \n",
    "   A   L S    I G\n",
    "   Y A   H  R\n",
    "   P     I        \"\"\"\n",
    "num_rows = 4\n",
    "overall_cols = []\n",
    "i = 0\n",
    "c = 0\n",
    "out = []\n",
    "while(i < len(string)):\n",
    "    if c!=0:\n",
    "        if c <= (num_rows-2):\n",
    "            temp = [\" \"]*num_rows\n",
    "            temp[num_rows-c-1] = string[i]\n",
    "            c+=1\n",
    "            overall_cols.append(temp)\n",
    "            i+=1\n",
    "        else:\n",
    "            c = 0\n",
    "    if c == 0:\n",
    "        temp = list(string[i:(i+(num_rows))])\n",
    "        tlen = len(temp)\n",
    "        if tlen<num_rows:\n",
    "            temp.extend([\" \"]*(num_rows-tlen))\n",
    "        overall_cols.append(temp)\n",
    "        i+=num_rows\n",
    "        c+= 1\n",
    "for l in list(map(list, zip(*overall_cols))):\n",
    "    out.append(\"\".join([x for x in l if x !=' ']))\n",
    "print(\"\".join(out))\n"
   ]
  },
  {
   "cell_type": "code",
   "execution_count": 87,
   "metadata": {},
   "outputs": [
    {
     "output_type": "execute_result",
     "data": {
      "text/plain": "[['p', ' ', 'a', ' ', 'h', ' ', 'n'],\n ['a', 'p', 'l', 's', 'i', 'i', 'g'],\n ['y', ' ', 'i', ' ', 'r', ' ', ' ']]"
     },
     "metadata": {},
     "execution_count": 87
    }
   ],
   "source": [
    "for l list(map(list, zip(*overall_cols)))"
   ]
  },
  {
   "cell_type": "code",
   "execution_count": null,
   "metadata": {},
   "outputs": [],
   "source": []
  }
 ]
}