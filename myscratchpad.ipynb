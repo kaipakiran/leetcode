{
 "metadata": {
  "language_info": {
   "codemirror_mode": {
    "name": "ipython",
    "version": 3
   },
   "file_extension": ".py",
   "mimetype": "text/x-python",
   "name": "python",
   "nbconvert_exporter": "python",
   "pygments_lexer": "ipython3",
   "version": "3.7.3-final"
  },
  "orig_nbformat": 2,
  "kernelspec": {
   "name": "python37364bitpyenvvenv63fb8a6bbc2843c4ad8ffe434700b5da",
   "display_name": "Python 3.7.3 64-bit ('pyenv': venv)"
  }
 },
 "nbformat": 4,
 "nbformat_minor": 2,
 "cells": [
  {
   "cell_type": "code",
   "execution_count": 44,
   "metadata": {
    "tags": []
   },
   "outputs": [
    {
     "output_type": "stream",
     "name": "stdout",
     "text": "[6, 5, 4, 3, 2, 1] 3.5\n"
    }
   ],
   "source": [
    "# median of sorted arrays\n",
    "val1 = nums1\n",
    "val2 = nums2\n",
    "val1_len = len(val1)\n",
    "val2_len = len(val2)\n",
    "overall_len = val1_len+val2_len\n",
    "even=False\n",
    "if overall_len%2 ==0:\n",
    "    even = True    \n",
    "if val1[-1]<val2[0]:\n",
    "    val3 = val1\n",
    "    val3.extend(val2)\n",
    "elif val2[-1]<val1[0]:\n",
    "    val3 = val2\n",
    "    val3.extend(val1)\n",
    "else:\n",
    "    val3 = []\n",
    "    flag = 0\n",
    "    i = 0\n",
    "    while i < overall_len:\n",
    "        if flag==0:\n",
    "            if val1[-1]>val2[-1]:\n",
    "                val3.append(val1[-1])\n",
    "                val1.pop(val1.index(val3[i]))\n",
    "                if len(val1)==0:\n",
    "                    flag =1\n",
    "            else:\n",
    "                val3.append(val2[-1])\n",
    "                val2.pop(val2.index(val3[i]))\n",
    "                if len(val2)==0:\n",
    "                    flag = 2\n",
    "        elif flag ==1:\n",
    "            val3.extend(val2[::-1])\n",
    "            break\n",
    "        else:\n",
    "            val3.extend(val1[::-1])\n",
    "            break\n",
    "        i+=1\n",
    "index = int(overall_len/2)\n",
    "if even:   \n",
    "    return ((val3[index]+val3[index-1])/2)\n",
    "else:\n",
    "    return (val3[index])"
   ]
  },
  {
   "cell_type": "code",
   "execution_count": 48,
   "metadata": {},
   "outputs": [],
   "source": [
    "string = \"paypalishiring\""
   ]
  },
  {
   "cell_type": "code",
   "execution_count": 121,
   "metadata": {
    "tags": []
   },
   "outputs": [
    {
     "output_type": "stream",
     "name": "stdout",
     "text": "True\n"
    }
   ],
   "source": [
    "# valid palidrome number\n",
    "num = 123454321\n",
    "i = 1\n",
    "rev = 0\n",
    "flag = 0\n",
    "temp = num\n",
    "while(1):\n",
    "    if temp <10:\n",
    "        n = temp\n",
    "        flag = 1\n",
    "    else:\n",
    "        n = int(temp / 10)\n",
    "    r = temp % 10\n",
    "    temp = n\n",
    "    # print(i,n,r)\n",
    "    rev = rev*10 +r\n",
    "    i+=1\n",
    "    if flag ==1:\n",
    "        break\n",
    "print(rev==num)"
   ]
  },
  {
   "cell_type": "code",
   "execution_count": 97,
   "metadata": {
    "tags": []
   },
   "outputs": [
    {
     "output_type": "stream",
     "name": "stdout",
     "text": "pinalsigyahrpi\n"
    }
   ],
   "source": [
    "# Convert string to zigzag pattern \n",
    "# https://stackoverflow.com/questions/6473679/transpose-list-of-lists\n",
    "\"\"\"P     H \n",
    "   A   S I\n",
    "   Y  I  R\n",
    "   P L   I G\n",
    "   A     N  \"\"\"\n",
    "\"\"\"P   A   H   N\n",
    "   A P L S I I G\n",
    "   Y   I   R    \"\"\"\n",
    "\"\"\"P     I      N \n",
    "   A   L S    I G\n",
    "   Y A   H  R\n",
    "   P     I        \"\"\"\n",
    "num_rows = 4\n",
    "overall_cols = []\n",
    "i = 0\n",
    "c = 0\n",
    "out = []\n",
    "while(i < len(string)):\n",
    "    if c!=0:\n",
    "        if c <= (num_rows-2):\n",
    "            temp = [\" \"]*num_rows\n",
    "            temp[num_rows-c-1] = string[i]\n",
    "            c+=1\n",
    "            overall_cols.append(temp)\n",
    "            i+=1\n",
    "        else:\n",
    "            c = 0\n",
    "    if c == 0:\n",
    "        temp = list(string[i:(i+(num_rows))])\n",
    "        tlen = len(temp)\n",
    "        if tlen<num_rows:\n",
    "            temp.extend([\" \"]*(num_rows-tlen))\n",
    "        overall_cols.append(temp)\n",
    "        i+=num_rows\n",
    "        c+= 1\n",
    "for l in list(map(list, zip(*overall_cols))):\n",
    "    out.append(\"\".join([x for x in l if x !=' ']))\n",
    "print(\"\".join(out))\n"
   ]
  },
  {
   "cell_type": "code",
   "execution_count": 249,
   "metadata": {
    "tags": []
   },
   "outputs": [
    {
     "output_type": "stream",
     "name": "stdout",
     "text": "a a 0\na a 1\na a 1\nFalse [] []\n"
    }
   ],
   "source": [
    "\"\"\"\n",
    "Given an input string (s) and a pattern (p), implement regular expression matching with support for '.' and '*'.\n",
    "\n",
    "'.' Matches any single character.\n",
    "'*' Matches zero or more of the preceding element.\n",
    "The matching should cover the entire input string (not partial).\n",
    "\n",
    "Note:\n",
    "\n",
    "s could be empty and contains only lowercase letters a-z.\n",
    "p could be empty and contains only lowercase letters a-z, and characters like . or *.\n",
    "s = \"ab\"\n",
    "p = \".*\"\n",
    "s = \"aa\"\n",
    "p = \"a*\"\n",
    "s = \"aab\"\n",
    "p = \"c*a*b\"\n",
    "s = \"mississippi\"\n",
    "p = \"mis*is*p*.\"\n",
    "s = \"mississippi\"\n",
    "p = \"mis*is*ip*.\"\n",
    "\"\"\"\n",
    "string = list(\"aa\")\n",
    "pattern = list(\"aa\")\n",
    "dot_index = None\n",
    "star_index = None\n",
    "i = 0\n",
    "match = False\n",
    "pflag = 0\n",
    "while(1):\n",
    "    if len(pattern)==0:\n",
    "        if p==\"*\":\n",
    "            match = True\n",
    "            break\n",
    "        else:\n",
    "            pflag = 1\n",
    "    if len(string)!=0 and len(pattern)!=0:\n",
    "        s = string.pop(string.index(string[0]))\n",
    "        p = pattern.pop(pattern.index(pattern[0]))\n",
    "        print(s,p,i)\n",
    "        if s!=p:\n",
    "            if p=='.':\n",
    "                dot_index=i\n",
    "            elif p=='*' and i!=0:\n",
    "                star_index = i\n",
    "                if len(pattern)==0:\n",
    "                    match = True\n",
    "                    break\n",
    "                p = pattern.pop(pattern.index(pattern[0]))\n",
    "                if len(string)>0:\n",
    "                    t = string.pop(string.index(string[0]))\n",
    "                    while t==s:\n",
    "                        t = string.pop(string.index(string[0]))\n",
    "                else:\n",
    "                    t = s\n",
    "                #if match:\n",
    "                #    s = string.pop(string.index(string[0]))\n",
    "                print(s,p,t,match)\n",
    "                if t!=p and p!=\".\":\n",
    "                    match = False\n",
    "                    break\n",
    "                else:\n",
    "                    match = True\n",
    "                    if len(pattern)==0:\n",
    "                        break\n",
    "                if star_index-1==dot_index:\n",
    "                    if len(pattern)== 0:\n",
    "                        match= True\n",
    "                        break\n",
    "                    flag = 0\n",
    "                    while(not flag or len(string)!=0):\n",
    "                        s = string.pop(string.index(string[0]))\n",
    "                        if s == p:\n",
    "                            flag = 1\n",
    "            elif pattern[0]==\"*\":\n",
    "                print(\"yes\")\n",
    "                pattern.pop(pattern.index(pattern[0]))\n",
    "                match=True\n",
    "                if len(pattern)==0:\n",
    "                    break\n",
    "                pass\n",
    "            else:\n",
    "                match = False\n",
    "        else:\n",
    "            #match=True\n",
    "            pass\n",
    "    else:\n",
    "        print(s,p,pflag)\n",
    "        if (s == p or p==\"*\" or p=='.') and (pflag!=1): \n",
    "            match = True\n",
    "            break\n",
    "        else:\n",
    "            match = False\n",
    "            break\n",
    "    i+=1\n",
    "print(match,string,pattern)\n",
    "\n",
    "            "
   ]
  },
  {
   "cell_type": "code",
   "execution_count": 336,
   "metadata": {
    "tags": []
   },
   "outputs": [
    {
     "output_type": "stream",
     "name": "stdout",
     "text": "a a\nMATCHED\na *\nc b []\nFalse\nyahan fasa {'*', 'b'}\nFalse\n"
    }
   ],
   "source": [
    "string = list(\"aab\")\n",
    "pattern = list(\"a*c*b*\")\n",
    "s = None\n",
    "p = None\n",
    "match = False\n",
    "while(1):\n",
    "    if len(string)!=0 and len(pattern)!=0:\n",
    "        pp = p\n",
    "        p = pattern.pop(0)\n",
    "        print(string[0],p)\n",
    "        if string[0] == p:\n",
    "            match = True\n",
    "            print(\"MATCHED\")\n",
    "            ps = string.pop(0)\n",
    "            pass\n",
    "        else:\n",
    "            if p == \"*\" and match:\n",
    "                s = string.pop(0)\n",
    "                while s==ps and len(string)!=0:\n",
    "                    s = string.pop(0)\n",
    "                if len(pattern)!=0:\n",
    "                    p = pattern.pop(0)\n",
    "                else:\n",
    "                    p = pp  \n",
    "                print(p,s,string)  \n",
    "                if p==s or p=='.':\n",
    "                    match = True\n",
    "                    pass\n",
    "                else:\n",
    "                    match = False\n",
    "                    pass\n",
    "            elif p=='.':\n",
    "                pass\n",
    "            else:\n",
    "                print(\"else\",p,s,string,pattern)\n",
    "                match = False\n",
    "                #break\n",
    "    else:\n",
    "        break\n",
    "print(match)\n",
    "if len(pattern)!=0:\n",
    "    if len(set([\"*\"]).union(set(pattern))-set([\"*\"]))!=0:\n",
    "        print(\"yahan fasa\",set([\"*\"]).union(set(pattern))-set([\".\"]))\n",
    "        match = False\n",
    "elif len(string)>=1 and p==\".\":\n",
    "    match = False\n",
    "    \n",
    "print(match)\n"
   ]
  },
  {
   "cell_type": "code",
   "execution_count": 382,
   "metadata": {
    "tags": []
   },
   "outputs": [
    {
     "output_type": "stream",
     "name": "stdout",
     "text": "['a2 act car', 'a8 act zoo', 'ab1 off key dog', 'g1 act car']\n['a2 act car', 'g1 act car', 'a8 act zoo', 'ab1 off key dog']\n"
    },
    {
     "output_type": "execute_result",
     "data": {
      "text/plain": "['a2 act car',\n 'g1 act car',\n 'a8 act zoo',\n 'ab1 off key dog',\n 'a1 9 2 3 1',\n 'zo4 4 7']"
     },
     "metadata": {},
     "execution_count": 382
    }
   ],
   "source": [
    "import re\n",
    "logs = [\"dig1 8 1 5 1\",\"let1 art can\",\"dig2 3 6\",\"let2 own kit dig\",\"let3 art zero\"]\n",
    "logs = [\"a1 9 2 3 1\",\"g1 act car\",\"zo4 4 7\",\"ab1 off key dog\",\"a8 act zoo\"]\n",
    "logs = [\"a1 9 2 3 1\",\"g1 act car\",\"zo4 4 7\",\"ab1 off key dog\",\"a8 act zoo\",\"a2 act car\"]\n",
    "let_logs = [x for x in logs if len(re.findall(\"[0-9]\",x.split()[1]))==0 ]\n",
    "print(sorted(let_logs))\n",
    "sorted_list = sorted([(\" \".join(x.split()[:1]),i) for i,x in enumerate(let_logs)])\n",
    "let_logs = [let_logs[x[1]]for x in sorted_list]\n",
    "sorted_list = sorted([(\" \".join(x.split()[1:]),i) for i,x in enumerate(let_logs)])\n",
    "let_logs = [let_logs[x[1]]for x in sorted_list]\n",
    "#let_logs = sorted(let_logs)\n",
    "print(let_logs)\n",
    "let_logs.extend([x for x in logs if len(re.findall(\"[0-9]\",x.split()[1]))>0])\n",
    "let_logs"
   ]
  },
  {
   "cell_type": "code",
   "execution_count": 372,
   "metadata": {},
   "outputs": [
    {
     "output_type": "execute_result",
     "data": {
      "text/plain": "[]"
     },
     "metadata": {},
     "execution_count": 372
    }
   ],
   "source": [
    "re.findall(\"[0-9]+\",\"art\")"
   ]
  },
  {
   "cell_type": "code",
   "execution_count": 593,
   "metadata": {},
   "outputs": [],
   "source": [
    "class ListNode:\n",
    "    def __init__(self, val=0, next=None):\n",
    "        self.val = val\n",
    "        self.next = next\n",
    "class Solution:\n",
    "    def create_list(self, list):\n",
    "        flag = 0\n",
    "        for l in list:\n",
    "            if flag ==0:\n",
    "                l1 = ListNode(val=l,next = None)\n",
    "                start = l1\n",
    "                flag = 1\n",
    "            else:\n",
    "                node = ListNode(val=l,next=None)\n",
    "                l1.next = node\n",
    "                l1 = l1.next\n",
    "        return start\n",
    "    \n",
    "    def print_list(self, l:ListNode):\n",
    "        while(1):\n",
    "            if l is not None:\n",
    "                print(l.val)\n",
    "                l = l.next\n",
    "            else:\n",
    "                break\n",
    "    def mergeTwoLists(self, l1: ListNode, l2: ListNode):\n",
    "        flag = 0\n",
    "        start = None\n",
    "        while(1):\n",
    "            if (l1 is None) and (l2 is not None):\n",
    "                if flag == 0:\n",
    "                    l3 = l2\n",
    "                    start = l3\n",
    "                    flag = 1\n",
    "                else:\n",
    "                    l3.next = l2\n",
    "                return start\n",
    "            elif (l1 is not None) and (l2 is None):\n",
    "                if flag ==0:\n",
    "                    l3 = l1\n",
    "                    start = l3\n",
    "                    flag = 1\n",
    "                else:\n",
    "                    l3.next = l1\n",
    "                return start\n",
    "            elif (l1 is None) and (l2 is None):\n",
    "                if flag == 0:\n",
    "                    return None\n",
    "                return start\n",
    "            else:\n",
    "                if(l1.val==l2.val):\n",
    "                    self.print_list(l1)\n",
    "                    if flag == 0:\n",
    "                        self.print_list(l1)\n",
    "                        flag = 1\n",
    "                        l3 = l1\n",
    "                        l1 = l1.next\n",
    "                        l3.next = l2\n",
    "                        start = l3\n",
    "                        l3 = l3.next\n",
    "                        l2 = l2.next\n",
    "                    else:\n",
    "                        l3.next = l1\n",
    "                        l1 = l1.next\n",
    "                        l3 = l3.next\n",
    "                        l3.next = l2\n",
    "                        l2 = l2.next\n",
    "                        l3 = l3.next\n",
    "                elif(l1.val <l2.val):\n",
    "                    if flag == 0:\n",
    "                        l3 = l1\n",
    "                        flag = 1\n",
    "                        l1 = l1.next\n",
    "                        start = l3\n",
    "                    else:\n",
    "                        l3.next = l1\n",
    "                        l1 = l1.next\n",
    "                        l3 = l3.next\n",
    "                elif (l2.val<l1.val):\n",
    "                    if flag == 0:\n",
    "                        l3 = l2\n",
    "                        start = l3\n",
    "                        flag = 1\n",
    "                        l2 = l2.next\n",
    "                    else:\n",
    "                        l3.next = l2     \n",
    "                        l2 = l2.next \n",
    "                        l3 = l3.next\n",
    "        "
   ]
  },
  {
   "cell_type": "code",
   "execution_count": 594,
   "metadata": {},
   "outputs": [],
   "source": [
    "a = Solution()"
   ]
  },
  {
   "cell_type": "code",
   "execution_count": 595,
   "metadata": {},
   "outputs": [],
   "source": [
    "ln1 = a.create_list([1,2,4])\n",
    "ln2 = a.create_list([1,3,4])"
   ]
  },
  {
   "cell_type": "code",
   "execution_count": 599,
   "metadata": {
    "tags": []
   },
   "outputs": [
    {
     "output_type": "stream",
     "name": "stdout",
     "text": "1\n1\n2\n3\n4\n4\n1\n1\n2\n3\n4\n4\n1\n1\n"
    },
    {
     "output_type": "error",
     "ename": "KeyboardInterrupt",
     "evalue": "",
     "traceback": [
      "\u001b[0;31m---------------------------------------------------------------------------\u001b[0m",
      "\u001b[0;31mKeyboardInterrupt\u001b[0m                         Traceback (most recent call last)",
      "\u001b[0;32m<ipython-input-599-b35880bb4155>\u001b[0m in \u001b[0;36m<module>\u001b[0;34m\u001b[0m\n\u001b[0;32m----> 1\u001b[0;31m \u001b[0mout\u001b[0m \u001b[0;34m=\u001b[0m \u001b[0ma\u001b[0m\u001b[0;34m.\u001b[0m\u001b[0mmergeTwoLists\u001b[0m\u001b[0;34m(\u001b[0m\u001b[0mln1\u001b[0m\u001b[0;34m,\u001b[0m\u001b[0mln2\u001b[0m\u001b[0;34m)\u001b[0m\u001b[0;34m\u001b[0m\u001b[0;34m\u001b[0m\u001b[0m\n\u001b[0m",
      "\u001b[0;32m<ipython-input-593-c831109cac26>\u001b[0m in \u001b[0;36mmergeTwoLists\u001b[0;34m(self, l1, l2)\u001b[0m\n\u001b[1;32m     80\u001b[0m                         \u001b[0mstart\u001b[0m \u001b[0;34m=\u001b[0m \u001b[0ml3\u001b[0m\u001b[0;34m\u001b[0m\u001b[0;34m\u001b[0m\u001b[0m\n\u001b[1;32m     81\u001b[0m                     \u001b[0;32melse\u001b[0m\u001b[0;34m:\u001b[0m\u001b[0;34m\u001b[0m\u001b[0;34m\u001b[0m\u001b[0m\n\u001b[0;32m---> 82\u001b[0;31m                         \u001b[0ml3\u001b[0m\u001b[0;34m.\u001b[0m\u001b[0mnext\u001b[0m \u001b[0;34m=\u001b[0m \u001b[0ml1\u001b[0m\u001b[0;34m\u001b[0m\u001b[0;34m\u001b[0m\u001b[0m\n\u001b[0m\u001b[1;32m     83\u001b[0m                         \u001b[0ml1\u001b[0m \u001b[0;34m=\u001b[0m \u001b[0ml1\u001b[0m\u001b[0;34m.\u001b[0m\u001b[0mnext\u001b[0m\u001b[0;34m\u001b[0m\u001b[0;34m\u001b[0m\u001b[0m\n\u001b[1;32m     84\u001b[0m                         \u001b[0ml3\u001b[0m \u001b[0;34m=\u001b[0m \u001b[0ml3\u001b[0m\u001b[0;34m.\u001b[0m\u001b[0mnext\u001b[0m\u001b[0;34m\u001b[0m\u001b[0;34m\u001b[0m\u001b[0m\n",
      "\u001b[0;31mKeyboardInterrupt\u001b[0m: "
     ]
    }
   ],
   "source": [
    "out = a.mergeTwoLists(ln1,ln2)"
   ]
  },
  {
   "cell_type": "code",
   "execution_count": 601,
   "metadata": {},
   "outputs": [
    {
     "output_type": "execute_result",
     "data": {
      "text/plain": "\"Given a string s containing just the characters '(', ')', '{', '}', '[' and ']', determine if the input string is valid.\\nAn input string is valid if:\\nOpen brackets must be closed by the same type of brackets.\\nOpen brackets must be closed in the correct order.\""
     },
     "metadata": {},
     "execution_count": 601
    }
   ],
   "source": [
    "\"\"\"Given a string s containing just the characters '(', ')', '{', '}', '[' and ']', determine if the input string is valid.\n",
    "An input string is valid if:\n",
    "Open brackets must be closed by the same type of brackets.\n",
    "Open brackets must be closed in the correct order.\"\"\"\n"
   ]
  },
  {
   "cell_type": "code",
   "execution_count": 623,
   "metadata": {},
   "outputs": [],
   "source": [
    "def is_valid(s):\n",
    "    open_c = [\"(\",\"[\",\"{\",]\n",
    "    close_c = [\")\",\"]\",\"}\"]\n",
    "    paranthesis = {}\n",
    "    paranthesis['round']=0\n",
    "    paranthesis['square']=0\n",
    "    paranthesis['curly']=0\n",
    "    last_open = []\n",
    "    for c in s:\n",
    "        if c in open_c:\n",
    "            last_open.append(c)\n",
    "            if c ==\"(\":\n",
    "                paranthesis[\"round\"]+=1\n",
    "            elif c==\"[\":\n",
    "                paranthesis[\"square\"]+=1\n",
    "            else:\n",
    "                paranthesis[\"curly\"]+=1\n",
    "        elif c in close_c:\n",
    "            if len(last_open)==0:\n",
    "                return False\n",
    "            if c ==\")\":\n",
    "                if last_open.pop(-1) == \"(\":\n",
    "                    if paranthesis['round']>0:\n",
    "                        paranthesis[\"round\"]-=1\n",
    "                    else:\n",
    "                        return False\n",
    "                else:\n",
    "                    return False\n",
    "            elif c == \"]\":\n",
    "                if last_open.pop(-1) == \"[\":\n",
    "                    if paranthesis['square']>0:\n",
    "                        paranthesis[\"square\"]-=1\n",
    "                    else:\n",
    "                        return False\n",
    "                else:\n",
    "                    return False\n",
    "            else:\n",
    "                if last_open.pop(-1) == \"{\":\n",
    "                    if paranthesis['curly']>0:\n",
    "                        paranthesis[\"curly\"]-=1\n",
    "                    else:\n",
    "                        return False\n",
    "                else:\n",
    "                    return False\n",
    "        else:\n",
    "            pass\n",
    "    return True if sum(paranthesis.values())==0 else False\n"
   ]
  },
  {
   "cell_type": "code",
   "execution_count": 630,
   "metadata": {},
   "outputs": [
    {
     "output_type": "execute_result",
     "data": {
      "text/plain": "False"
     },
     "metadata": {},
     "execution_count": 630
    }
   ],
   "source": [
    "is_valid(\"[()())]\")"
   ]
  },
  {
   "cell_type": "code",
   "execution_count": 619,
   "metadata": {},
   "outputs": [
    {
     "output_type": "execute_result",
     "data": {
      "text/plain": "[1, 2, 3]"
     },
     "metadata": {},
     "execution_count": 619
    }
   ],
   "source": [
    "# class ListNode:\n",
    "#     def __init__(self, val=0, next=None):\n",
    "#         self.val = val\n",
    "#         self.next = next\n",
    "# class Solution:\n",
    "#     def create_list(self, list):\n",
    "#         flag = 0\n",
    "#         for l in list:\n",
    "#             if flag ==0:\n",
    "#                 l1 = ListNode(val=l,next = None)\n",
    "#                 start = l1\n",
    "#                 flag = 1\n",
    "#             else:\n",
    "#                 node = ListNode(val=l,next=None)\n",
    "#                 l1.next = node\n",
    "#                 l1 = l1.next\n",
    "#         return start\n",
    "    \n",
    "#     def print_list(self, l:ListNode):\n",
    "#         while(1):\n",
    "#             if l is not None:\n",
    "#                 print(l.val)\n",
    "#                 l = l.next\n",
    "#             else:\n",
    "#                 break\n",
    "\n",
    "#     def mergeKLists(self, lists: list(ListNode)):\n",
    "#         flag = 0\n",
    "\n",
    "#         while(1):\n",
    "#             minval =[]\n",
    "#             for i in len(lists):\n",
    "#                 minval.append(lists[i].val)\n",
    "#             if flag ==0:\n",
    "#                 merged = lists[lists[minval.index(min(minval))]]\n",
    "#                 lists[minval.index(min(minval))] = lists[minval.index(min(minval))].next\n",
    "#                 minval.pop(minval.index(min(minval)))\n",
    "#                 while "
   ]
  },
  {
   "cell_type": "code",
   "execution_count": 631,
   "metadata": {},
   "outputs": [],
   "source": [
    "# Input: intervals = [[1,3],[2,6],[8,10],[15,18]]\n",
    "# Output: [[1,6],[8,10],[15,18]]\n",
    "# Explanation: Since intervals [1,3] and [2,6] overlaps, merge them into [1,6]."
   ]
  },
  {
   "cell_type": "code",
   "execution_count": 680,
   "metadata": {},
   "outputs": [],
   "source": [
    "def merge_intervals(intervals):\n",
    "    new_intervals = []\n",
    "    intervals =sorted(intervals)\n",
    "    for i,interval in enumerate(intervals):\n",
    "        temp = interval\n",
    "        #print(temp)\n",
    "        for j, interval2 in enumerate(intervals[i+1:],1):\n",
    "            #print(interval2,i,j)\n",
    "            if temp[-1] >= interval2[0] and temp[-1]<=interval2[-1]:\n",
    "                temp[-1] = interval2[-1]\n",
    "                #print(i,j,temp,interval2,intervals)\n",
    "                intervals.pop(intervals.index(interval2))\n",
    "            elif temp[0] <=interval2[-1] and temp[-1]>=interval2[0]:\n",
    "                temp[0] = interval2[0]\n",
    "                intervals.pop(intervals.index(interval2))\n",
    "        new_intervals.append(temp)\n",
    "    return new_intervals\n",
    "        "
   ]
  },
  {
   "cell_type": "code",
   "execution_count": 681,
   "metadata": {
    "tags": []
   },
   "outputs": [
    {
     "output_type": "stream",
     "name": "stdout",
     "text": "[[2, 18]]\n"
    },
    {
     "output_type": "execute_result",
     "data": {
      "text/plain": "[[1, 5]]"
     },
     "metadata": {},
     "execution_count": 681
    }
   ],
   "source": [
    "intervals = [[10,15],[2,3],[1,8],[8,10],[15,18]]\n",
    "print(merge_intervals(intervals))\n",
    "intervals = [[1,4],[4,5]]\n",
    "merge_intervals(intervals)"
   ]
  },
  {
   "cell_type": "code",
   "execution_count": null,
   "metadata": {},
   "outputs": [],
   "source": [
    "[[1,5][1,3]]"
   ]
  }
 ]
}